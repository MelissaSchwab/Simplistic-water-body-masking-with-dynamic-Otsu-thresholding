{
 "cells": [
  {
   "cell_type": "markdown",
   "id": "3b8891ba-0494-48d4-8e2d-0b9e64266c00",
   "metadata": {},
   "source": [
    "## AVIRIS-NG\n",
    "\n",
    "# Water Mask for Hyperspectral Data using MNDWI and Otsu Thresholding\n",
    "\n",
    "Hyperspectral imagery from the Airborne Visible InfraRed Imaging Spectrometer-Next Generation (AVIRIS-NG) was collected as part of the Arctic Boreal Vulnerability Experiment (ABoVE) in 2017 - 2019 and archived at the ORNL DAAC. File sizes can be prohibitively large due to the large number of raster bands. \n",
    "\n",
    "Reflected radiance was measured by the Airborne Visible/Infrared Imaging Spectrometer-Next Generation (AVIRIS-NG) instrument during flights over the Arctic-Boreal Vulnerability Experiment (ABoVE) domain between June and August 2017. AVIRIS-NG measures reflected radiance at 5 nm intervals in the visible to shortwave infrared spectral range between 380 and 2510 nm. Cloud-free reflectance imagery of 27 individual flight lines was orthorectified and atmospherically corrected using a bidirectional reflectance distribution function<sup>[1]</sup>. Radiometrically and geometrically calibrated reflectance data is provided at approximately 5 m spatial resolution. The data include 422 flight lines covering areas of interest to the ABoVE campaign over much of Alaska and western Canada. \n",
    "\n",
    "\n",
    "[1] Greenberg, E. et al. Combined Sun Glint and Vegetation BRDF Correction over Heterogeneous Wetland Land Cover. In prep. "
   ]
  },
  {
   "cell_type": "code",
   "execution_count": 30,
   "id": "4978c19f-ff11-41cb-940a-88bfe50f1fd1",
   "metadata": {
    "tags": []
   },
   "outputs": [],
   "source": [
    "import numpy as np\n",
    "import pandas as pd\n",
    "import os\n",
    "import json\n",
    "import math\n",
    "import affine\n",
    "import matplotlib as mpl\n",
    "import matplotlib.pyplot as plt\n",
    "import matplotlib.gridspec as gridspec\n",
    "import seaborn as sns\n",
    "from osgeo import gdal,ogr,osr\n",
    "from scipy.linalg import norm\n",
    "import os.path"
   ]
  },
  {
   "cell_type": "markdown",
   "id": "8d3e93d9-2c28-48bd-a82d-550d7a39ab83",
   "metadata": {},
   "source": [
    "## 1. Open ENVI file"
   ]
  },
  {
   "cell_type": "code",
   "execution_count": 2,
   "id": "f3a92941-8200-4dd4-8e85-dd6ca7277161",
   "metadata": {},
   "outputs": [
    {
     "name": "stdout",
     "output_type": "stream",
     "text": [
      "Metadata keys:\n",
      "description, samples, lines, bands, header offset, file type, data type, interleave, byte order, map info, crosstrack scatter file, wavelength units, flat field file, wavelength file, wavelength, radiance version, fwhm, rcc file, smoothing factors, data ignore value, spectral scatter file, bad pixel map\n"
     ]
    }
   ],
   "source": [
    "# open ENVI header file\n",
    "with open(\".../AVIRISNG_Data/ang20170809t211931_new_rfl.hdr\",\"r\") as f:\n",
    "    print(\"Metadata keys:\\n\"+\", \".join(\n",
    "        [ln.strip().split(\" = \")[0] for ln in f.readlines() if \" = \" in ln]))"
   ]
  },
  {
   "cell_type": "code",
   "execution_count": 3,
   "id": "a44933c9-09d4-4769-aee8-c0b51499a823",
   "metadata": {},
   "outputs": [
    {
     "name": "stdout",
     "output_type": "stream",
     "text": [
      "Bands:\t425\n",
      "Rows:\t15166\n",
      "Cols:\t647\n"
     ]
    }
   ],
   "source": [
    "# open the ENVI file\n",
    "# Insert your flightline here\n",
    "img = gdal.Open(\".../AVIRISNG_Data/ang20170809t211931_new_rfl\")\n",
    "\n",
    "nbands = img.RasterCount\n",
    "nrows = img.RasterYSize\n",
    "ncols = img.RasterXSize\n",
    "\n",
    "print(\"\\n\".join([\"Bands:\\t\"+str(nbands),\"Rows:\\t\"+str(nrows),\"Cols:\\t\"+str(ncols)]))"
   ]
  },
  {
   "cell_type": "markdown",
   "id": "b20b4f24-58b2-47c3-9af0-8ff7327697a1",
   "metadata": {},
   "source": [
    "## 2. Get band descriptions"
   ]
  },
  {
   "cell_type": "code",
   "execution_count": 68,
   "id": "4cd52596-c37b-4ddf-bc20-5de801acc206",
   "metadata": {},
   "outputs": [
    {
     "data": {
      "text/html": [
       "<div>\n",
       "<style scoped>\n",
       "    .dataframe tbody tr th:only-of-type {\n",
       "        vertical-align: middle;\n",
       "    }\n",
       "\n",
       "    .dataframe tbody tr th {\n",
       "        vertical-align: top;\n",
       "    }\n",
       "\n",
       "    .dataframe thead th {\n",
       "        text-align: right;\n",
       "    }\n",
       "</style>\n",
       "<table border=\"1\" class=\"dataframe\">\n",
       "  <thead>\n",
       "    <tr style=\"text-align: right;\">\n",
       "      <th></th>\n",
       "      <th>Band number</th>\n",
       "      <th>Band center (nm)</th>\n",
       "      <th>EM region</th>\n",
       "    </tr>\n",
       "  </thead>\n",
       "  <tbody>\n",
       "    <tr>\n",
       "      <th>1</th>\n",
       "      <td>1</td>\n",
       "      <td>376.86</td>\n",
       "      <td>visible-violet</td>\n",
       "    </tr>\n",
       "    <tr>\n",
       "      <th>2</th>\n",
       "      <td>2</td>\n",
       "      <td>381.87</td>\n",
       "      <td>visible-violet</td>\n",
       "    </tr>\n",
       "    <tr>\n",
       "      <th>3</th>\n",
       "      <td>3</td>\n",
       "      <td>386.88</td>\n",
       "      <td>visible-violet</td>\n",
       "    </tr>\n",
       "    <tr>\n",
       "      <th>4</th>\n",
       "      <td>4</td>\n",
       "      <td>391.89</td>\n",
       "      <td>visible-violet</td>\n",
       "    </tr>\n",
       "    <tr>\n",
       "      <th>5</th>\n",
       "      <td>5</td>\n",
       "      <td>396.89</td>\n",
       "      <td>visible-violet</td>\n",
       "    </tr>\n",
       "  </tbody>\n",
       "</table>\n",
       "</div>"
      ],
      "text/plain": [
       "   Band number  Band center (nm)       EM region\n",
       "1            1            376.86  visible-violet\n",
       "2            2            381.87  visible-violet\n",
       "3            3            386.88  visible-violet\n",
       "4            4            391.89  visible-violet\n",
       "5            5            396.89  visible-violet"
      ]
     },
     "execution_count": 68,
     "metadata": {},
     "output_type": "execute_result"
    }
   ],
   "source": [
    "# band description\n",
    "band_dictionary = {\n",
    "    \"visible-violet\": {'lower': 375, 'upper': 450, 'color': 'violet'},\n",
    "    \"visible-blue\": {'lower': 450, 'upper': 485, 'color': 'blue'},\n",
    "    \"visible-cyan\": {'lower': 485, 'upper': 500, 'color': 'cyan'},\n",
    "    \"visible-green\": {'lower': 500, 'upper': 565, 'color': 'green'},\n",
    "    \"visible-yellow\": {'lower': 565, 'upper': 590, 'color': 'yellow'},\n",
    "    \"visible-orange\": {'lower': 590, 'upper': 625, 'color': 'orange'},\n",
    "    \"visible-red\": {'lower': 625, 'upper': 740, 'color': 'red'},\n",
    "    \"near-infrared\": {'lower': 740, 'upper': 1100, 'color': 'gray'},\n",
    "    \"shortwave-infrared\": {'lower': 1100, 'upper': 2500, 'color': 'white'}\n",
    "}\n",
    "\n",
    "# function to classify bands\n",
    "between = lambda wavelength, region: region['lower'] < wavelength <= region['upper']\n",
    "def classifier(band):\n",
    "    for region, limits in band_dictionary.items():\n",
    "        if between(band, limits):\n",
    "            return(region)\n",
    "\n",
    "# lists of band numbers, band centers, and em classes\n",
    "band_numbers = [int(b.split(\"_\")[1]) for b in img.GetMetadata().keys() if b != \"wavelength_units\"]\n",
    "band_centers = [float(b.split(\" \")[0]) for b in img.GetMetadata().values() if b != \"Nanometers\"]\n",
    "em_regions = [classifier(b) for b in band_centers]\n",
    "\n",
    "# data frame describing bands\n",
    "bands = pd.DataFrame({ \n",
    "    \"Band number\": band_numbers, \n",
    "    \"Band center (nm)\": band_centers, \n",
    "    \"EM region\": em_regions }, index = band_numbers).sort_index()\n",
    "\n",
    "# print the first few rows\n",
    "bands.head()"
   ]
  },
  {
   "cell_type": "markdown",
   "id": "c92f7ce4-4fbb-4313-937c-18a60bde22f9",
   "metadata": {
    "tags": []
   },
   "source": [
    "## 3. Extract bands"
   ]
  },
  {
   "cell_type": "code",
   "execution_count": 33,
   "id": "1525c3e8-dde6-40b1-8180-60e8f73b0731",
   "metadata": {},
   "outputs": [
    {
     "name": "stdout",
     "output_type": "stream",
     "text": [
      "Band number                    34\n",
      "Band center (nm)           542.15\n",
      "EM region           visible-green\n",
      "Name: 34, dtype: object\n",
      "------------------------------------------------------------\n",
      "Band number                  59\n",
      "Band center (nm)         667.36\n",
      "EM region           visible-red\n",
      "Name: 59, dtype: object\n",
      "------------------------------------------------------------\n",
      "Band number                    94\n",
      "Band center (nm)           842.67\n",
      "EM region           near-infrared\n",
      "Name: 94, dtype: object\n",
      "------------------------------------------------------------\n",
      "Band number                    97\n",
      "Band center (nm)           857.69\n",
      "EM region           near-infrared\n",
      "Name: 97, dtype: object\n",
      "------------------------------------------------------------\n",
      "Band number                        173\n",
      "Band center (nm)               1238.35\n",
      "EM region           shortwave-infrared\n",
      "Name: 173, dtype: object\n",
      "------------------------------------------------------------\n",
      "Band number                        247\n",
      "Band center (nm)               1608.99\n",
      "EM region           shortwave-infrared\n",
      "Name: 247, dtype: object\n",
      "------------------------------------------------------------\n",
      "Band number                        363\n",
      "Band center (nm)                2190.0\n",
      "EM region           shortwave-infrared\n",
      "Name: 363, dtype: object\n",
      "------------------------------------------------------------\n",
      "Band number                        369\n",
      "Band center (nm)               2220.05\n",
      "EM region           shortwave-infrared\n",
      "Name: 369, dtype: object\n"
     ]
    }
   ],
   "source": [
    "# function finds band in our table\n",
    "get_band_number = lambda w: bands.iloc[(bands[\"Band center (nm)\"]-w).abs().argsort()[1]]\n",
    "\n",
    "r540, r665, r842, r860, r1240, r1610, r2190, r2220 = (get_band_number(540), get_band_number(665), \n",
    "                                                      get_band_number(842), get_band_number(860), \n",
    "                                                      get_band_number(1240), get_band_number(1610), \n",
    "                                                      get_band_number(2190), get_band_number(2220))\n",
    "\n",
    "# print band information from the table\n",
    "print(str(\"\\n\"+\"---\"*20+\"\\n\").join([str(r540),str(r665),str(r842),str(r860),\n",
    "                                    str(r1240),str(r1610),str(r2190),str(r2220)]))"
   ]
  },
  {
   "cell_type": "code",
   "execution_count": 34,
   "id": "7a38ad76-57a1-4e89-9d16-194bf58d8426",
   "metadata": {},
   "outputs": [],
   "source": [
    "# function gets numpy array from input band\n",
    "get_band = lambda b: img.GetRasterBand(int(b[\"Band number\"])).ReadAsArray()\n",
    "\n",
    "R540, R665, R842, R860, R1240, R1610, R2190, R2220 = (get_band(r540), get_band(r665),\n",
    "                                                      get_band(r842), get_band(r860),\n",
    "                                                      get_band(r1240), get_band(r1610),\n",
    "                                                      get_band(r2190), get_band(r2220))"
   ]
  },
  {
   "cell_type": "code",
   "execution_count": 42,
   "id": "e559646e-16ee-4361-9034-f44366e2782e",
   "metadata": {},
   "outputs": [],
   "source": [
    "# set fill value to numpy nan for all -9999.\n",
    "R540[R540 == -9999.], R665[R665 == -9999.], R842[R842 == -9999.], R860[R860 == -9999.], R1240[R1240 == -9999.], R1610[R1610 == -9999.], R2190[R2190 == -9999.], R2220[R2220 == -9999.] = np.nan, np.nan, np.nan, np.nan, np.nan, np.nan, np.nan, np.nan"
   ]
  },
  {
   "cell_type": "markdown",
   "id": "5d95105a-0f5d-41c5-8a85-1f2c87d1577f",
   "metadata": {},
   "source": [
    "## 4. Water masking algorithms"
   ]
  },
  {
   "cell_type": "markdown",
   "id": "eee3aaa4-6b91-49ab-97a9-a7fb51e8fd45",
   "metadata": {},
   "source": [
    "### Single-band water mask\n",
    "Single-band water masks are often used to extract surface water bodies.\n",
    "The most common are:\n",
    "* 1500 nm\n",
    "* 2200 nm\n",
    "* 2220 nm (R2220)"
   ]
  },
  {
   "cell_type": "markdown",
   "id": "8f1cc47d-0810-40c8-8e2a-32265ca29001",
   "metadata": {},
   "source": [
    "### Normalized Difference Water Index\n",
    "\n",
    "McFeeters, S. K. The use of the Normalized Difference Water Index (NDWI) in the delineation of open water features. Int. J. Remote Sens. 17, 1425–1432 (1996).\n",
    "\n",
    "NDWI = (R860-1240)/(R860+1240)"
   ]
  },
  {
   "cell_type": "markdown",
   "id": "62d62ef2-6104-440b-aecc-2e74365c604f",
   "metadata": {},
   "source": [
    "### Modified Normalized Difference Water Index\n",
    "\n",
    "Xu, H. Modification of normalised difference water index (NDWI) to enhance open water features in remotely sensed imagery. Int. J. Remote Sens. 27, 3025–3033 (2006).\n",
    "\n",
    "MNDWI = (R540-R1610)/(R540-1610)\n",
    "\n",
    "Given my experience, I consider the conservative MNDWI, characterized by a reduced noise sensitivity, as a reliable metric to accurately delineate open water features."
   ]
  },
  {
   "cell_type": "code",
   "execution_count": 45,
   "id": "7dee302d-87d5-42bf-a947-946e8cc810e0",
   "metadata": {},
   "outputs": [
    {
     "name": "stdout",
     "output_type": "stream",
     "text": [
      "------------------------------------------------------------\n",
      "MNDWI stats --- mean: -0.0044948086, std: 1.0031247, min: -784.83704, max: 965.1797\n"
     ]
    },
    {
     "data": {
      "image/png": "[encoded data removed]",
      "text/plain": [
       "<Figure size 432x288 with 1 Axes>"
      ]
     },
     "metadata": {
      "needs_background": "light"
     },
     "output_type": "display_data"
    }
   ],
   "source": [
    "# calculate mndwi\n",
    "mndwi_array = (R540-R1610)/(R540+R1610)\n",
    "\n",
    "# print mndwi statistics\n",
    "print(str(\"---\"*20+\"\\n\")+\", \".join([\n",
    "    \"MNDWI stats --- mean: \"+str(np.nanmean(mndwi_array)), \n",
    "    \"std: \"+str(np.nanstd(mndwi_array)), \n",
    "    \"min: \"+str(np.nanmin(mndwi_array)), \n",
    "    \"max: \"+str(np.nanmax(mndwi_array)) \n",
    "]))\n",
    "\n",
    "# visualize outliers (often patches of dark green)\n",
    "ax = sns.boxplot(x=mndwi_array)"
   ]
  },
  {
   "cell_type": "markdown",
   "id": "3711a537-304e-4ec3-bafd-8f77f3462688",
   "metadata": {},
   "source": [
    "### Multi-Band Water Index\n",
    "\n",
    "Wang, X. et al. A robust Multi-Band Water Index (MBWI) for automated extraction of surface water from Landsat 8 OLI imagery. Int. J. Appl. Earth Obs. Geoinf. 68, 73–91 (2018).\n",
    "\n",
    "MBWI_array = 2 * R540 - R665 - R842 - R1610 - R2190"
   ]
  },
  {
   "cell_type": "markdown",
   "id": "271ae628-e553-4b3d-94b0-0307ed2c5f82",
   "metadata": {},
   "source": [
    "## 5. Remove and replace outliers"
   ]
  },
  {
   "cell_type": "code",
   "execution_count": 50,
   "id": "a3df75e9-bf9a-4873-819c-4cbd66c3ceb7",
   "metadata": {},
   "outputs": [
    {
     "data": {
      "image/png": "[encoded data removed]",
      "text/plain": [
       "<Figure size 432x288 with 1 Axes>"
      ]
     },
     "metadata": {
      "needs_background": "light"
     },
     "output_type": "display_data"
    }
   ],
   "source": [
    "import copy\n",
    "mndwi_array2 = copy.copy(mndwi_array)\n",
    "# set all pixels MNDWI < -1 and MNDWI > 1 to nan\n",
    "mndwi_array2[mndwi_array2 < -1] = np.nan\n",
    "mndwi_array2[mndwi_array2 > 1] = np.nan\n",
    "\n",
    "mndwi_squeeze = np.squeeze(np.asarray(mndwi_array2).reshape(-1))\n",
    "plt.hist(mndwi_squeeze, bins=100);"
   ]
  },
  {
   "cell_type": "code",
   "execution_count": 53,
   "id": "0333bd71-2602-42ae-a32d-7f22af49095c",
   "metadata": {},
   "outputs": [],
   "source": [
    "# Interpolate nan values\n",
    "from scipy.interpolate import NearestNDInterpolator\n",
    "mask = np.where(~np.isnan(mndwi_array2))\n",
    "interp = NearestNDInterpolator(np.transpose(mask), mndwi_array2[mask])\n",
    "filled_data = interp(*np.indices(mndwi_array2.shape))"
   ]
  },
  {
   "cell_type": "markdown",
   "id": "2d08f953-66f4-4e62-83be-35605bc7576f",
   "metadata": {},
   "source": [
    "## 6. Otsu Thresholding"
   ]
  },
  {
   "cell_type": "code",
   "execution_count": 69,
   "id": "11bdd320-09d6-4d39-b5d1-98435b40b0bd",
   "metadata": {},
   "outputs": [
    {
     "name": "stdout",
     "output_type": "stream",
     "text": [
      "0.16837427\n"
     ]
    },
    {
     "data": {
      "image/png": "[encoded data removed]",
      "text/plain": [
       "<Figure size 576x180 with 3 Axes>"
      ]
     },
     "metadata": {
      "needs_background": "light"
     },
     "output_type": "display_data"
    }
   ],
   "source": [
    "# Find dynamic threshold for flight line\n",
    "from skimage.filters import threshold_otsu\n",
    "\n",
    "threshold = threshold_otsu(filled_data)\n",
    "binary = filled_data > thresh\n",
    "\n",
    "print(threshold)\n",
    "\n",
    "# visualize threshold\n",
    "f, axes = plt.subplots(ncols=3, figsize=(8, 2.5))\n",
    "ax = axes.ravel()\n",
    "ax[0] = plt.subplot(1, 3, 1) #,adjustable='box-forced')\n",
    "ax[1] = plt.subplot(1, 3, 2)\n",
    "ax[2] = plt.subplot(1, 3, 3, sharex=ax[0], sharey=ax[0]) #, adjustable='box-forced')\n",
    "\n",
    "ax[0].imshow(filled_data, cmap=plt.cm.gray)\n",
    "ax[0].set_title('Original')\n",
    "ax[0].axis('off')\n",
    "\n",
    "ax[1].hist(filled_data.ravel(), bins=256)\n",
    "ax[1].set_title('Histogram')\n",
    "ax[1].axvline(thresh, color='r')\n",
    "\n",
    "ax[2].imshow(binary, cmap=plt.cm.gray)\n",
    "ax[2].set_title('Thresholded')\n",
    "ax[2].axis('off')\n",
    "\n",
    "plt.show()\n",
    "#f.savefig(\"Otsu.pdf\", dpi=300)"
   ]
  },
  {
   "cell_type": "markdown",
   "id": "cd75faa3-167a-4de0-8379-e1c994330d57",
   "metadata": {},
   "source": [
    "## 7. Extract water mask and save as GeoTIFF"
   ]
  },
  {
   "cell_type": "code",
   "execution_count": 73,
   "id": "a244e09f-adf3-40cf-9391-37e601ac4eca",
   "metadata": {},
   "outputs": [
    {
     "name": "stdout",
     "output_type": "stream",
     "text": [
      "Mean MNDWI > 0 : 37.25\n"
     ]
    }
   ],
   "source": [
    "watermask = copy.copy(filled_data)\n",
    "# set all pixels with MNDWI < 0 to 0, keeping only values > 0 (surface water bodies)\n",
    "# insert Otsu threshold value\n",
    "watermask[filled_data < threshold] = 0\n",
    "watermask[filled_data > threshold] = 1 \n",
    "\n",
    "# print percentage of water bodies within the flight line\n",
    "print('Mean MNDWI > 0 :',round(np.nanmean(watermask)*100,2))"
   ]
  },
  {
   "cell_type": "code",
   "execution_count": 74,
   "id": "5b2f6da0-513f-4e50-bf77-e6e9f83244e7",
   "metadata": {},
   "outputs": [
    {
     "data": {
      "image/png": "[encoded data removed]",
      "text/plain": [
       "<Figure size 432x288 with 1 Axes>"
      ]
     },
     "metadata": {
      "needs_background": "light"
     },
     "output_type": "display_data"
    }
   ],
   "source": [
    "fig = plt.imshow(watermask)\n",
    "fig.set_cmap('RdYlGn')"
   ]
  },
  {
   "cell_type": "code",
   "execution_count": 75,
   "id": "d3dd77f6-efe1-453b-999a-f1d04546cf50",
   "metadata": {},
   "outputs": [],
   "source": [
    "# open gdal raster dataset for writing\n",
    "outraster1 = gdal.GetDriverByName('GTiff').Create(\n",
    "    \"flightline_watermask.tif\",                     # output GeoTIFF\n",
    "    img.RasterXSize,                                # number of columns\n",
    "    img.RasterYSize,                                # number of rows\n",
    "    1 ,                                             # number of bands\n",
    "    gdal.GDT_Float32)                               # data type\n",
    "\n",
    "# set geotransform and projection information\n",
    "geo = img.GetGeoTransform()                         # get geotransform from input raster\n",
    "outraster1.SetGeoTransform(geo)                     # set geotransform\n",
    "wkt = img.GetProjection()                           # get projection from input raster\n",
    "outraster1.SetProjection(wkt)                       # set projection \n",
    "\n",
    "# get band 1\n",
    "outraster1b = outraster1.GetRasterBand(1)           # get band 1 of output\n",
    "\n",
    "# write to band 1\n",
    "watermask[np.isnan(watermask)] = 0                  # fill np.nan in savi array with -9999.0\n",
    "outraster1b.WriteArray(watermask)                   # write savi array to band 1;\n",
    "outraster1b.SetNoDataValue(0)                       # set nodata value to -9999\n",
    "\n",
    "outraster1.FlushCache()                             # write out\n",
    "outraster1 = None "
   ]
  },
  {
   "cell_type": "markdown",
   "id": "feff2f3e-4d30-4169-aac9-f2d66d5008ac",
   "metadata": {
    "tags": []
   },
   "source": [
    "# Important Notes:\n",
    "\n",
    "## Validation:\n",
    "Validate computed water maks via visual inspection or with a manual digitized reference mask (sklearn.metrics).\n",
    "\n",
    "## Clouds:\n",
    "Clouded areas are not detected by the water mask and do not interfere with the computations. Please, exclude clouded areas or where possible manually delinate ponds and lakes.\n",
    "\n",
    "## Clean up\n",
    "Given a 5 m spatial resolution, statistically only water bodies above 100 m<sup>2</sup> are \"acceptable\". Thus, depending on your application remove pixel cluster <100 m<sup>2</sup>. "
   ]
  }
 ],
 "metadata": {
  "kernelspec": {
   "display_name": "Python 3 (ipykernel)",
   "language": "python",
   "name": "python3"
  },
  "language_info": {
   "codemirror_mode": {
    "name": "ipython",
    "version": 3
   },
   "file_extension": ".py",
   "mimetype": "text/x-python",
   "name": "python",
   "nbconvert_exporter": "python",
   "pygments_lexer": "ipython3",
   "version": "3.8.2"
  }
 },
 "nbformat": 4,
 "nbformat_minor": 5
}
